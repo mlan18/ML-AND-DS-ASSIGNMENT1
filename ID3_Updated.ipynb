{
  "nbformat": 4,
  "nbformat_minor": 0,
  "metadata": {
    "colab": {
      "provenance": [],
      "authorship_tag": "ABX9TyOnO+XfFbby9SJv7Ukv74FP",
      "include_colab_link": true
    },
    "kernelspec": {
      "name": "python3",
      "display_name": "Python 3"
    },
    "language_info": {
      "name": "python"
    }
  },
  "cells": [
    {
      "cell_type": "markdown",
      "metadata": {
        "id": "view-in-github",
        "colab_type": "text"
      },
      "source": [
        "<a href=\"https://colab.research.google.com/github/mlan18/ML-AND-DS-ASSIGNMENT1/blob/main/ID3_Updated.ipynb\" target=\"_parent\"><img src=\"https://colab.research.google.com/assets/colab-badge.svg\" alt=\"Open In Colab\"/></a>"
      ]
    },
    {
      "cell_type": "code",
      "execution_count": 1,
      "metadata": {
        "colab": {
          "base_uri": "https://localhost:8080/"
        },
        "id": "09OOqMdgSVZe",
        "outputId": "2ba60e08-91d1-47e5-e23b-a67241a06c44"
      },
      "outputs": [
        {
          "output_type": "stream",
          "name": "stdout",
          "text": [
            "Decision Tree:\n",
            "\n",
            "{'Age': {'31-40': 'Yes', '<30': {'Student': {'No': 'No', 'Yes': 'Yes'}}, '>40': {'Credit': {'Excellent': 'No', 'Fair': 'Yes'}}}}\n",
            "Query: {'Age': '31-40', 'Income': 'Medium', 'Student': 'Yes', 'Credit': 'Fair'} => Prediction: Yes\n",
            "Query: {'Age': '>40', 'Income': 'Low', 'Student': 'No', 'Credit': 'Excellent'} => Prediction: No\n"
          ]
        }
      ],
      "source": [
        "import pandas as pd\n",
        "import numpy as np\n",
        "\n",
        "# ---- Step 1: Dataset ----\n",
        "data = {'Age': ['<30', '<30', '31-40', '>40', '>40', '>40', '31-40', '<30', '<30', '>40', '<30', '31-40', '31-40', '>40'],\n",
        "        'Income': ['High', 'High', 'High', 'Medium', 'Low', 'Low', 'Low', 'Medium', 'Low', 'Medium', 'Medium', 'Medium', 'High', 'Medium'],\n",
        "        'Student': ['No', 'No', 'No', 'No', 'Yes', 'Yes', 'Yes', 'No', 'Yes', 'Yes', 'Yes', 'No', 'No', 'No'],\n",
        "        'Credit': ['Fair', 'Excellent', 'Fair', 'Fair', 'Fair', 'Excellent', 'Excellent', 'Fair', 'Fair', 'Fair', 'Excellent', 'Excellent', 'Fair', 'Excellent'],\n",
        "        'Buy': ['No', 'No', 'Yes', 'Yes', 'Yes', 'No', 'Yes', 'No', 'Yes', 'Yes', 'Yes', 'Yes', 'Yes', 'No']}\n",
        "\n",
        "df = pd.DataFrame(data)\n",
        "\n",
        "# ---- Step 2: Entropy Function ----\n",
        "def entropy(target_col):\n",
        "    elements, counts = np.unique(target_col, return_counts=True)\n",
        "    entropy_val = -np.sum((counts/len(target_col)) * np.log2(counts/len(target_col)))\n",
        "    return entropy_val\n",
        "\n",
        "# ---- Step 3: Information Gain ----\n",
        "def info_gain(data, split_attribute_name, target_name=\"Buy\"):\n",
        "    total_entropy = entropy(data[target_name])\n",
        "    vals, counts = np.unique(data[split_attribute_name], return_counts=True)\n",
        "    weighted_entropy = np.sum([(counts[i]/np.sum(counts)) * entropy(data.where(data[split_attribute_name] == vals[i]).dropna()[target_name]) for i in range(len(vals))])\n",
        "    return total_entropy - weighted_entropy\n",
        "\n",
        "# ---- Step 4: ID3 Tree Builder ----\n",
        "def ID3(data, original_data, features, target_attribute_name=\"Buy\", parent_node_class=None):\n",
        "    # If all target values are same -> return that class\n",
        "    if len(np.unique(data[target_attribute_name])) <= 1:\n",
        "        return np.unique(data[target_attribute_name])[0]\n",
        "\n",
        "    # If dataset is empty -> return mode of original dataset\n",
        "    elif len(data) == 0:\n",
        "        return np.unique(original_data[target_attribute_name])[np.argmax(np.unique(original_data[target_attribute_name], return_counts=True)[1])]\n",
        "\n",
        "    # If no features left -> return mode of parent node\n",
        "    elif len(features) == 0:\n",
        "        return parent_node_class\n",
        "\n",
        "    else:\n",
        "        parent_node_class = np.unique(data[target_attribute_name])[np.argmax(np.unique(data[target_attribute_name], return_counts=True)[1])]\n",
        "\n",
        "        # Select feature with max information gain\n",
        "        item_values = [info_gain(data, feature, target_attribute_name) for feature in features]\n",
        "        best_feature_index = np.argmax(item_values)\n",
        "        best_feature = features[best_feature_index]\n",
        "\n",
        "        # Build the tree\n",
        "        tree = {best_feature: {}}\n",
        "        features = [i for i in features if i != best_feature]\n",
        "\n",
        "        for value in np.unique(data[best_feature]):\n",
        "            sub_data = data.where(data[best_feature] == value).dropna()\n",
        "            subtree = ID3(sub_data, data, features, target_attribute_name, parent_node_class)\n",
        "            tree[best_feature][value] = subtree\n",
        "\n",
        "        return tree\n",
        "\n",
        "# ---- Step 5: Fit the model ----\n",
        "features = df.columns[:-1].tolist()  # all except target\n",
        "tree = ID3(df, df, features)\n",
        "\n",
        "print(\"Decision Tree:\\n\")\n",
        "print(tree)\n",
        "\n",
        "# ---- Step 6: Prediction Function ----\n",
        "def predict(query, tree, default='Yes'):\n",
        "    for key in list(query.keys()):\n",
        "        if key in list(tree.keys()):\n",
        "            try:\n",
        "                result = tree[key][query[key]]\n",
        "            except:\n",
        "                return default\n",
        "\n",
        "            if isinstance(result, dict):\n",
        "                return predict(query, result)\n",
        "            else:\n",
        "                return result\n",
        "\n",
        "# ---- Step 7: Make predictions ----\n",
        "queries = [\n",
        "    {'Age': '31-40', 'Income': 'Medium', 'Student': 'Yes', 'Credit': 'Fair'},\n",
        "    {'Age': '>40', 'Income': 'Low', 'Student': 'No', 'Credit': 'Excellent'}\n",
        "]\n",
        "\n",
        "for q in queries:\n",
        "    print(f\"Query: {q} => Prediction: {predict(q, tree)}\")"
      ]
    }
  ]
}